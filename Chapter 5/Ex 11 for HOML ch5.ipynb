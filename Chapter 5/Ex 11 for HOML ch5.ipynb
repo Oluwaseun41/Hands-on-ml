{
 "cells": [
  {
   "cell_type": "markdown",
   "id": "050904e1-18dc-44bc-bdc3-3b35cf2c6377",
   "metadata": {},
   "source": [
    "Train and fine-tune an SVM regressor on the California housing dataset. You can\n",
    " use the original dataset rather than the tweaked version we used in Chapter 2,\n",
    " which you can load using sklearn.datasets.fetch_california_housing().\n",
    " The targets represent hundreds of thousands of dollars. Since there are over\n",
    " 20,000 instances, SVMs can be slow, so for hyperparameter tuning you should\n",
    " use far fewer instances (e.g., 2,000) to test many more hyperparameter combina\n",
    "tions. What is your best model’s RMSE?"
   ]
  },
  {
   "cell_type": "code",
   "execution_count": null,
   "id": "5d6e58a5-76a8-4064-be9c-1890887a5ebc",
   "metadata": {},
   "outputs": [],
   "source": [
    "from sklearn.datasets import fetch_california_housing\n",
    "\n",
    "housing = fetch_california_housing()\n",
    "X = housing.data\n",
    "y = housing.target  # In 100,000s of dollars\n"
   ]
  }
 ],
 "metadata": {
  "kernelspec": {
   "display_name": "Python [conda env:base] *",
   "language": "python",
   "name": "conda-base-py"
  },
  "language_info": {
   "codemirror_mode": {
    "name": "ipython",
    "version": 3
   },
   "file_extension": ".py",
   "mimetype": "text/x-python",
   "name": "python",
   "nbconvert_exporter": "python",
   "pygments_lexer": "ipython3",
   "version": "3.12.7"
  }
 },
 "nbformat": 4,
 "nbformat_minor": 5
}
